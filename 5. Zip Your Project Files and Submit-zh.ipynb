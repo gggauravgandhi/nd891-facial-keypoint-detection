{
 "cells": [
  {
   "cell_type": "markdown",
   "metadata": {},
   "source": [
    "## 项目提交\n",
    "\n",
    "准备好提交项目时，意味着你已经根据 [审阅标准](https://review.udacity.com/#!/rubrics/1427/view) 自行做了检查，确保已完成所有任务并回答了所有问题。 然后，就可以压缩文件并提交你的项目了！\n",
    "\n",
    "请参考以下步骤：\n",
    "1. 所有代码单元格都已在notebook 2和notebook 3中*运行*过（并且已保存进度）。\n",
    "2. 这些notebook中的所有问题都已得到解答。\n",
    "3. `model.py`中的架构是经过测试选出的最佳架构。\n",
    "\n",
    "在进行下一步之前，请确保你的所有代码都已保存，同时，无需更改这些单元格中的任何代码，因为此代码仅用于帮助你提交项目。\n",
    "\n",
    "---\n",
    "\n",
    "我们要做的第一件事就是，将你的notebook转换成`.html`文件。这些文件将保存每个单元格的输出以及已修改并保存在这些notebook中的所有代码与文本。 请注意，不包括第一个notebook，因为其中的内容不会影响你的项目审阅。"
   ]
  },
  {
   "cell_type": "code",
   "execution_count": null,
   "metadata": {},
   "outputs": [],
   "source": [
    "!jupyter nbconvert \"2. Define the Network Architecture.ipynb\"\n",
    "!jupyter nbconvert \"3. Facial Keypoint Detection, Complete Pipeline.ipynb\"\n",
    "!jupyter nbconvert \"4. Fun with Keypoints.ipynb\""
   ]
  },
  {
   "cell_type": "markdown",
   "metadata": {},
   "source": [
    "### 压缩项目文件\n",
    "\n",
    "接下来，我们将所有notebook文件和`models.py`文件压缩到一个名为`project1.zip`的压缩存档中。\n",
    "\n",
    "完成这个步骤后，你应该会在home目录中看到此压缩文件。你可以从下面的图像中下载该文件，方法是从列表中选择它并单击**“下载”**。\n",
    "\n",
    "<img src='images/download_ex.png' width=50% height=50%/>"
   ]
  },
  {
   "cell_type": "code",
   "execution_count": null,
   "metadata": {},
   "outputs": [],
   "source": [
    "!!apt-get -y update && apt-get install -y zip\n",
    "!zip project1.zip -r . -i@filelist.txt"
   ]
  },
  {
   "cell_type": "markdown",
   "metadata": {},
   "source": [
    "### 提交项目\n",
    "\n",
    "创建并下载压缩文件后，单击`Submit`按钮并按照提交`project1.zip`文件的说明进行操作即可。恭喜你完成这个项目哦，希望你学有所得，学有所乐！"
   ]
  }
 ],
 "metadata": {},
 "nbformat": 4,
 "nbformat_minor": 2
}
